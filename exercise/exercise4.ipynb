{
 "cells": [
  {
   "cell_type": "code",
   "execution_count": 2,
   "metadata": {},
   "outputs": [
    {
     "name": "stdout",
     "output_type": "stream",
     "text": [
      "Please Enter number of participants:4\n",
      "Enter the Gender[f/m]/Name/Programming Language 1 of 4 :ssf sdf sdf\n",
      "Enter the Gender[f/m]/Name/Programming Language 1 of 4 :m aMIr java\n",
      "Enter the Gender[f/m]/Name/Programming Language 2 of 4 :f.mINa python\n",
      "Enter the Gender[f/m]/Name/Programming Language 3 of 4 :m/abbas c\n",
      "Enter the Gender[f/m]/Name/Programming Language 4 of 4 :f.BAHAR.delphi\n",
      "f Bahar delphi \n",
      "f Mina python \n",
      "m Abbas c \n",
      "m Amir java \n"
     ]
    }
   ],
   "source": [
    "import re\n",
    "compete_list = []\n",
    "#--------get the number of person\n",
    "while True:\n",
    "    person_number = input(\"Please Enter number of participants:\")\n",
    "    if person_number.isdigit():\n",
    "        if int(person_number)>0 :\n",
    "            break\n",
    "#--------get the list\n",
    "for i in range(int(person_number)):\n",
    "    while True :\n",
    "        data = input(\"Enter the Gender[f/m]/Name/Programming Language {} of {} :\".format(i+1,int(person_number)))\n",
    "        data_spl = re.findall(r\"[\\w']+\", data)\n",
    "        if len(data_spl) == 3 :\n",
    "            if data_spl[0].casefold() == \"f\" or  data_spl[0].casefold() == \"m\" :\n",
    "                 break\n",
    "        \n",
    "    compete_list.append(data_spl)\n",
    "# print(compete_list)\n",
    "\n",
    "#-------------------Standard the name\n",
    "for i in range(len(compete_list)):\n",
    "        compete_list[i][1] = compete_list[i][1].casefold().capitalize()\n",
    "# print(compete_list)\n",
    "#--------------------------------------\n",
    "\n",
    "#------------------Sort by Gender\n",
    "temp_list1 = []\n",
    "temp_list2 = []\n",
    "\n",
    "for i in range(len(compete_list)):\n",
    "    if compete_list[i][0].casefold() == \"f\" :\n",
    "        temp_list1.append(compete_list[i])\n",
    "    else:\n",
    "        temp_list2.append(compete_list[i])\n",
    "if len(temp_list2)>0:\n",
    "    for item in temp_list2:\n",
    "        temp_list1.append(item)\n",
    "\n",
    "#-----sort by Alphabet ---------------------------------\n",
    "final= sorted(temp_list1)\n",
    "# print(final)\n",
    "for i in range(len(final)):\n",
    "    print(\"{} {} {} \".format(final[i][0],final[i][1],final[i][2]))\n",
    "\n",
    "\n"
   ]
  },
  {
   "cell_type": "code",
   "execution_count": null,
   "metadata": {},
   "outputs": [],
   "source": []
  }
 ],
 "metadata": {
  "kernelspec": {
   "display_name": "Python 3",
   "language": "python",
   "name": "python3"
  },
  "language_info": {
   "codemirror_mode": {
    "name": "ipython",
    "version": 3
   },
   "file_extension": ".py",
   "mimetype": "text/x-python",
   "name": "python",
   "nbconvert_exporter": "python",
   "pygments_lexer": "ipython3",
   "version": "3.8.3"
  }
 },
 "nbformat": 4,
 "nbformat_minor": 4
}
