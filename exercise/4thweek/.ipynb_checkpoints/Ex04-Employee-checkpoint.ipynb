{
 "cells": [
  {
   "cell_type": "code",
   "execution_count": 18,
   "metadata": {},
   "outputs": [
    {
     "name": "stdout",
     "output_type": "stream",
     "text": [
      "John\n",
      "Major\n",
      "178\n",
      "Italian\n"
     ]
    }
   ],
   "source": [
    "class Employee(object):\n",
    "    \n",
    "    def __init__(self,fullname,salary=None,height=None,nationality=None):\n",
    "        flname= fullname.split(\" \")\n",
    "        self.name = flname[0]\n",
    "        self.lastname = flname[1]\n",
    "        self.salary = salary\n",
    "        self.height = height\n",
    "        self.nationality = nationality\n",
    "\n",
    "john = Employee(\"John Doe\")\n",
    "mary = Employee(\"Mary Major\",salary = 120000)\n",
    "richard = Employee(\"Richard Roe\",salary = 110000 , height=178)\n",
    "giancarlo = Employee(\"Giancalro Rossi\",115000,height=185,nationality=\"Italian\")\n",
    "\n",
    "print(john.name)\n",
    "print(mary.lastname)\n",
    "print(richard.height)\n",
    "print(giancarlo.nationality)\n"
   ]
  }
 ],
 "metadata": {
  "kernelspec": {
   "display_name": "Python 3",
   "language": "python",
   "name": "python3"
  },
  "language_info": {
   "codemirror_mode": {
    "name": "ipython",
    "version": 3
   },
   "file_extension": ".py",
   "mimetype": "text/x-python",
   "name": "python",
   "nbconvert_exporter": "python",
   "pygments_lexer": "ipython3",
   "version": "3.8.3"
  }
 },
 "nbformat": 4,
 "nbformat_minor": 4
}
