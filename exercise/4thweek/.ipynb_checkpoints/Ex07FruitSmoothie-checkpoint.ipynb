{
 "cells": [
  {
   "cell_type": "code",
   "execution_count": 41,
   "metadata": {},
   "outputs": [
    {
     "name": "stdout",
     "output_type": "stream",
     "text": [
      "Te Result Of get_cost is : 5.5\n",
      "Te Result Of get_price is : (5.5, 8.25)\n",
      "Please enjoy Banana & BlueBerries & Mango & Strawberry Fusion !\n",
      "Te Result Of get_cost is : 1.5\n",
      "Te Result Of get_price is : (1.5, 2.25)\n",
      "Please enjoy Strawberry Smoothie !\n"
     ]
    }
   ],
   "source": [
    "class Smothie(object):\n",
    "    \n",
    "    def __init__(self,ingredients = []):\n",
    "        self.ingredients = ingredients\n",
    "        self.total_cost = 0\n",
    "        self.total_price = 0\n",
    "\n",
    "    def get_cost(self):\n",
    "        cost_list=[]\n",
    "        for items in self.ingredients :\n",
    "            cost_list.append(items[1])\n",
    "        if len(cost_list)>0 :\n",
    "            for i in range(len(cost_list)):\n",
    "                self.total_cost += cost_list[i]\n",
    "        return self.total_cost\n",
    "\n",
    "    def get_price(self):\n",
    "        self.total_price  = round((self.total_cost * 1.5),2)\n",
    "        return self.total_cost,self.total_price\n",
    "        \n",
    "        \n",
    "    def get_name(self):\n",
    "        desc_sent = \"\"\n",
    "        name_list = []\n",
    "        for items in self.ingredients :\n",
    "            if items[0][-7:] == \"berries\":\n",
    "                name_list.append(items[0][0:len(items[0])-7]+\"berry\")\n",
    "            else:\n",
    "                name_list.append(items[0])\n",
    "        order = sorted(name_list)\n",
    "        for i in range(len(order)):\n",
    "            if i==len(order)-1:\n",
    "                desc_sent += order[i]\n",
    "            else:\n",
    "                desc_sent += order[i] + \" & \"\n",
    "        if len(order)>1 :\n",
    "            result = \"Please enjoy {} Fusion !\".format(desc_sent)\n",
    "        else:\n",
    "            result = \"Please enjoy {} Smoothie !\".format(desc_sent)\n",
    "        return result\n",
    "        \n",
    "        \n",
    "\n",
    "used_ingredients1 = [[\"Strawberries\",1.5],[\"Banana\",0.5],[\"Mango\",2.5],[\"BlueBerries\",1]]\n",
    "used_ingredients2 = [[\"Strawberries\",1.5]]\n",
    "\n",
    "my_juice = Smothie(used_ingredients1)\n",
    "print(\"Te Result Of get_cost is : {}\".format(my_juice.get_cost()))\n",
    "print(\"Te Result Of get_price is : {}\".format(my_juice.get_price()))\n",
    "print(my_juice.get_name())\n",
    "\n",
    "\n",
    "my_juice = Smothie(used_ingredients2)\n",
    "print(\"Te Result Of get_cost is : {}\".format(my_juice.get_cost()))\n",
    "print(\"Te Result Of get_price is : {}\".format(my_juice.get_price()))\n",
    "print(my_juice.get_name())\n"
   ]
  }
 ],
 "metadata": {
  "kernelspec": {
   "display_name": "Python 3",
   "language": "python",
   "name": "python3"
  },
  "language_info": {
   "codemirror_mode": {
    "name": "ipython",
    "version": 3
   },
   "file_extension": ".py",
   "mimetype": "text/x-python",
   "name": "python",
   "nbconvert_exporter": "python",
   "pygments_lexer": "ipython3",
   "version": "3.8.3"
  }
 },
 "nbformat": 4,
 "nbformat_minor": 4
}
