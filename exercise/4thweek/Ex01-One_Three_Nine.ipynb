{
 "cells": [
  {
   "cell_type": "code",
   "execution_count": 13,
   "metadata": {},
   "outputs": [
    {
     "name": "stdout",
     "output_type": "stream",
     "text": [
      "Please Enter a number between 0-26 : 5\n",
      "nines:0, threes:1, ones:2\n"
     ]
    }
   ],
   "source": [
    "#Model 1\n",
    "class Ones_Three_Nine :\n",
    "    def __init__(self,number):\n",
    "        self.number = number\n",
    "    def nine_counts(self) :\n",
    "        return self.number //9\n",
    "    \n",
    "    def three_counts(self):\n",
    "        return self.number//3\n",
    "    \n",
    "    def one_counts(self):\n",
    "        return self.number //1\n",
    "\n",
    "\n",
    "r=-1\n",
    "while True:\n",
    "    r=int(input(\"Please Enter a number between 0-26 : \"))\n",
    "    if r>=0 and r<=26 :\n",
    "        nines = Ones_Three_Nine(r).nine_counts()\n",
    "        threes = Ones_Three_Nine(r-(nines*9)).three_counts()\n",
    "        ones = Ones_Three_Nine(r-(nines*9)-(threes*3)).one_counts()\n",
    "        print(\"nines:{}, threes:{}, ones:{}\".format(nines,threes,ones))\n",
    "        break\n"
   ]
  },
  {
   "cell_type": "code",
   "execution_count": 12,
   "metadata": {},
   "outputs": [
    {
     "name": "stdout",
     "output_type": "stream",
     "text": [
      "Please Enter a number between 0-26 : 27\n",
      "Please Enter a number between 0-26 : 17\n",
      "nines:1, threes:2, ones:2\n"
     ]
    }
   ],
   "source": [
    "#Model2\n",
    "class Ones_Three_Nine :\n",
    "    def __init__(self,number):\n",
    "        self.number = number\n",
    "        self.nines = self.nine_counts(number)\n",
    "        self.threes = self.three_counts(number - (self.nines*9))\n",
    "        self.ones = self.one_counts(number-(self.nines*9)-(self.threes*3))\n",
    "#         return \"nines:{}, threes:{}, ones:{}\".format(nines,threes,ones)\n",
    "    def nine_counts(self,n) :\n",
    "        return n //9\n",
    "    \n",
    "    def three_counts(self,n):\n",
    "        return n//3\n",
    "    \n",
    "    def one_counts(self,n):\n",
    "        return n //1\n",
    "\n",
    "r=-1\n",
    "while True:\n",
    "    r=int(input(\"Please Enter a number between 0-26 : \"))\n",
    "    if r>=0 and r<=26 :\n",
    "        result = Ones_Three_Nine(r)\n",
    "        print(\"nines:{}, threes:{}, ones:{}\".format(result.nines,result.threes,result.ones))\n",
    "        break\n"
   ]
  }
 ],
 "metadata": {
  "kernelspec": {
   "display_name": "Python 3",
   "language": "python",
   "name": "python3"
  },
  "language_info": {
   "codemirror_mode": {
    "name": "ipython",
    "version": 3
   },
   "file_extension": ".py",
   "mimetype": "text/x-python",
   "name": "python",
   "nbconvert_exporter": "python",
   "pygments_lexer": "ipython3",
   "version": "3.8.3"
  }
 },
 "nbformat": 4,
 "nbformat_minor": 4
}
