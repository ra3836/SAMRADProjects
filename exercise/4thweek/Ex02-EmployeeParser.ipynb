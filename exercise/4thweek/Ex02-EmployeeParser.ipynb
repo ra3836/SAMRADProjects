{
 "cells": [
  {
   "cell_type": "code",
   "execution_count": 17,
   "metadata": {},
   "outputs": [
    {
     "name": "stdout",
     "output_type": "stream",
     "text": [
      "Mary\n",
      "60000\n",
      "John\n",
      "55000\n"
     ]
    }
   ],
   "source": [
    "class Employee :\n",
    "    def __init__(self,firstname,lastname,salary):\n",
    "        self.firstname = firstname\n",
    "        self.lastname = lastname\n",
    "        self.salary = int(salary)\n",
    "        \n",
    "    def from_string(txt):\n",
    "        parsed = txt.split(\"-\")\n",
    "        return Employee(parsed[0],parsed[1],int(parsed[2]))\n",
    "    \n",
    "    \n",
    "emp1 = Employee(\"Mary\",\"Sue\",60000)\n",
    "emp2 = Employee.from_string(\"John-Smith-55000\")\n",
    "print(emp1.firstname)\n",
    "print(emp1.salary)\n",
    "print(emp2.firstname)\n",
    "print(emp2.salary)"
   ]
  }
 ],
 "metadata": {
  "kernelspec": {
   "display_name": "Python 3",
   "language": "python",
   "name": "python3"
  },
  "language_info": {
   "codemirror_mode": {
    "name": "ipython",
    "version": 3
   },
   "file_extension": ".py",
   "mimetype": "text/x-python",
   "name": "python",
   "nbconvert_exporter": "python",
   "pygments_lexer": "ipython3",
   "version": "3.8.3"
  }
 },
 "nbformat": 4,
 "nbformat_minor": 4
}
