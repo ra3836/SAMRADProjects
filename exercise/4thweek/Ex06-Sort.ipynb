{
 "cells": [
  {
   "cell_type": "code",
   "execution_count": 9,
   "metadata": {},
   "outputs": [
    {
     "name": "stdout",
     "output_type": "stream",
     "text": [
      "['Alice', 'Babak', 'Michael', 'Zoey']\n",
      "['Jones', 'Rad', 'Smith', 'Waters']\n",
      "[21, 29, 30, 40]\n"
     ]
    }
   ],
   "source": [
    "class Person(object):\n",
    "    \n",
    "    def __init__(self,firstname,lastname,age):\n",
    "        self.firstname = firstname\n",
    "        self.lastname = lastname\n",
    "        self.age = age\n",
    "        \n",
    "        \n",
    "        \n",
    "def people_sort(people_list,attr_name):\n",
    "    mylist = []\n",
    "    for people in people_list:\n",
    "          mylist.append(getattr(people,attr_name))\n",
    "    return sorted(mylist)\n",
    "        \n",
    "        \n",
    "p1= Person(\"Michael\",\"Smith\",40)\n",
    "p2 = Person(\"Alice\",\"Waters\",21)\n",
    "p3 = Person(\"Zoey\",\"Jones\",29)\n",
    "p4 = Person(\"Babak\",\"Rad\",30)\n",
    "object_list = []\n",
    "object_list.append(p1)\n",
    "object_list.append(p2)\n",
    "object_list.append(p3)\n",
    "object_list.append(p4)\n",
    "\n",
    "print(people_sort(object_list,\"firstname\"))\n",
    "print(people_sort(object_list,\"lastname\"))\n",
    "print(people_sort(object_list,\"age\"))\n"
   ]
  }
 ],
 "metadata": {
  "kernelspec": {
   "display_name": "Python 3",
   "language": "python",
   "name": "python3"
  },
  "language_info": {
   "codemirror_mode": {
    "name": "ipython",
    "version": 3
   },
   "file_extension": ".py",
   "mimetype": "text/x-python",
   "name": "python",
   "nbconvert_exporter": "python",
   "pygments_lexer": "ipython3",
   "version": "3.8.3"
  }
 },
 "nbformat": 4,
 "nbformat_minor": 4
}
