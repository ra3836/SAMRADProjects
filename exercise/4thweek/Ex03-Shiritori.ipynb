{
 "cells": [
  {
   "cell_type": "code",
   "execution_count": 4,
   "metadata": {},
   "outputs": [
    {
     "name": "stdout",
     "output_type": "stream",
     "text": [
      "Please Enter a Word : hassan\n",
      "['hassan']\n",
      "Please Enter a Word : nasim\n",
      "['hassan', 'nasim']\n",
      "Please Enter a Word : nima\n",
      "Game Over !\n"
     ]
    }
   ],
   "source": [
    "class Shiritori:\n",
    "    \n",
    "    \n",
    "    def _is_in_words(self,newword):\n",
    "        for items in self.words:\n",
    "            if items == newword :\n",
    "                return True\n",
    "        return False\n",
    "    \n",
    "    @staticmethod\n",
    "    def _is_match(prev,curr):\n",
    "        if prev[-1]== curr[0] :\n",
    "            return True\n",
    "        else:\n",
    "            return False\n",
    "    \n",
    "    def __init__(self):\n",
    "        self.words = []\n",
    "        self.game_over = False\n",
    "        \n",
    "\n",
    "    \n",
    "    def play(self,new_word):\n",
    "        if len(self.words)==0 :\n",
    "            self.words.append(new_word)\n",
    "            return self.words\n",
    "        else:\n",
    "            last_index = len(self.words) - 1\n",
    "            if (self._is_in_words(new_word)==False) and (self._is_match(self.words[last_index],new_word)):\n",
    "                self.words.append(new_word)\n",
    "                return self.words\n",
    "            else:\n",
    "                self.game_over = True\n",
    "                return \"Game Over !\"\n",
    "                \n",
    "        \n",
    "    def restart (this):\n",
    "        self.game_over = False\n",
    "        self.words = []\n",
    "        return \"Game ReStarted !\"\n",
    "\n",
    "new_game = Shiritori()\n",
    "while new_game.game_over == False:\n",
    "    new_word = input(\"Please Enter a Word : \")\n",
    "    print(new_game.play(new_word))"
   ]
  }
 ],
 "metadata": {
  "kernelspec": {
   "display_name": "Python 3",
   "language": "python",
   "name": "python3"
  },
  "language_info": {
   "codemirror_mode": {
    "name": "ipython",
    "version": 3
   },
   "file_extension": ".py",
   "mimetype": "text/x-python",
   "name": "python",
   "nbconvert_exporter": "python",
   "pygments_lexer": "ipython3",
   "version": "3.8.3"
  }
 },
 "nbformat": 4,
 "nbformat_minor": 4
}
