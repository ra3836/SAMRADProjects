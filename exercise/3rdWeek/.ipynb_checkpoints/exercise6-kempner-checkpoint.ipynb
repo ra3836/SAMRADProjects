{
 "cells": [
  {
   "cell_type": "code",
   "execution_count": 7,
   "metadata": {},
   "outputs": [
    {
     "name": "stdout",
     "output_type": "stream",
     "text": [
      "5\n",
      "2\n",
      "5\n",
      "3\n",
      "13\n",
      "11\n"
     ]
    }
   ],
   "source": [
    "def factorial(n):\n",
    "    result = 1\n",
    "    if n>1 :\n",
    "        result = n * factorial(n-1)\n",
    "    return result\n",
    "\n",
    "def kempner(arg):\n",
    "    i=1\n",
    "    while True:\n",
    "        if factorial(i) % arg ==0 :\n",
    "            return i\n",
    "        else :\n",
    "            i+=1\n",
    "    \n",
    "print(kempner(10))\n",
    "print(kempner(2))\n",
    "print(kempner(5))\n",
    "print(kempner(6))\n",
    "print(kempner(13))\n",
    "print(kempner(22))"
   ]
  }
 ],
 "metadata": {
  "kernelspec": {
   "display_name": "Python 3",
   "language": "python",
   "name": "python3"
  },
  "language_info": {
   "codemirror_mode": {
    "name": "ipython",
    "version": 3
   },
   "file_extension": ".py",
   "mimetype": "text/x-python",
   "name": "python",
   "nbconvert_exporter": "python",
   "pygments_lexer": "ipython3",
   "version": "3.8.3"
  }
 },
 "nbformat": 4,
 "nbformat_minor": 4
}
