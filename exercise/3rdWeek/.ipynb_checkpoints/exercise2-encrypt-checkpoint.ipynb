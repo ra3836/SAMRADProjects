{
 "cells": [
  {
   "cell_type": "code",
   "execution_count": 34,
   "metadata": {},
   "outputs": [
    {
     "name": "stdout",
     "output_type": "stream",
     "text": [
      "Please Enter a text for encryption :banana\n",
      "0n0n0baca\n"
     ]
    }
   ],
   "source": [
    "def encrypt(txt):\n",
    "    #--- first make it reverse\n",
    "    enc_result = []\n",
    "    str_input = txt.lower()\n",
    "    result = str_input[::-1]\n",
    "    #---change vowels\n",
    "    vowels = {'a':'0' , 'e':'1' , 'i':'2' , 'o': '2' , 'u' :'3'}\n",
    "    for letter in result :\n",
    "        if letter in vowels.keys():\n",
    "            enc_result.append(vowels.get(letter))\n",
    "        else:\n",
    "            enc_result.append(letter)\n",
    "    return \"\".join(enc_result)+\"aca\"\n",
    "print(encrypt(input(\"Please Enter a text for encryption :\")))\n"
   ]
  }
 ],
 "metadata": {
  "kernelspec": {
   "display_name": "Python 3",
   "language": "python",
   "name": "python3"
  },
  "language_info": {
   "codemirror_mode": {
    "name": "ipython",
    "version": 3
   },
   "file_extension": ".py",
   "mimetype": "text/x-python",
   "name": "python",
   "nbconvert_exporter": "python",
   "pygments_lexer": "ipython3",
   "version": "3.8.3"
  }
 },
 "nbformat": 4,
 "nbformat_minor": 4
}
