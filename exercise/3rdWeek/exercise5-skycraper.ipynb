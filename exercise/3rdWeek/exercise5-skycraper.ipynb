{
 "cells": [
  {
   "cell_type": "code",
   "execution_count": 18,
   "metadata": {},
   "outputs": [
    {
     "name": "stdout",
     "output_type": "stream",
     "text": [
      "4\n",
      "3\n",
      "4\n",
      "2\n"
     ]
    }
   ],
   "source": [
    "def tallest_skycraper(skylines):\n",
    "    max_sum = 0\n",
    "    for i in range(len(skylines[0])):\n",
    "        temp_sum=0\n",
    "        for items in skylines:\n",
    "            temp_sum = temp_sum + items[i]\n",
    "        if temp_sum > max_sum :\n",
    "            max_sum = temp_sum\n",
    "    return(max_sum)\n",
    "\n",
    "print(tallest_skycraper([[0,0,0,0,0,0],[0,0,0,0,1,0],[0,0,1,0,1,0],[0,1,1,1,1,0],[1,1,1,1,1,1]]))\n",
    "print(tallest_skycraper([[0,0,0,0],[0,1,0,0],[0,1,1,0],[1,1,1,1]]))\n",
    "print(tallest_skycraper([[0,1,0,0],[0,1,0,0],[0,1,1,0],[1,1,1,1]]))\n",
    "print(tallest_skycraper([[0,0,0,0],[0,0,0,0],[1,1,1,0],[1,1,1,1]]))"
   ]
  }
 ],
 "metadata": {
  "kernelspec": {
   "display_name": "Python 3",
   "language": "python",
   "name": "python3"
  },
  "language_info": {
   "codemirror_mode": {
    "name": "ipython",
    "version": 3
   },
   "file_extension": ".py",
   "mimetype": "text/x-python",
   "name": "python",
   "nbconvert_exporter": "python",
   "pygments_lexer": "ipython3",
   "version": "3.8.3"
  }
 },
 "nbformat": 4,
 "nbformat_minor": 4
}
