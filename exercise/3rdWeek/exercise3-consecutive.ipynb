{
 "cells": [
  {
   "cell_type": "code",
   "execution_count": 13,
   "metadata": {},
   "outputs": [
    {
     "name": "stdout",
     "output_type": "stream",
     "text": [
      "True\n",
      "False\n",
      "True\n",
      "False\n"
     ]
    }
   ],
   "source": [
    "def consecutive_combo (list1,list2):\n",
    "    combined_list = list1 + list2\n",
    "#     print(combined_list)\n",
    "    combined_min = min(combined_list)\n",
    "#     print(combined_min)\n",
    "    combined_max = max(combined_list)\n",
    "#     print(combined_max)\n",
    "    if sorted(combined_list) == list(range(combined_min,combined_max+1)):\n",
    "        return True\n",
    "    else:\n",
    "        return False\n",
    "\n",
    "print(consecutive_combo([5,3,1,7],[4,2,6,8]))\n",
    "print(consecutive_combo([1,5,3,7],[2,4,6,7]))\n",
    "print(consecutive_combo([1,3],[2]))\n",
    "print(consecutive_combo([45,43],[41]))"
   ]
  }
 ],
 "metadata": {
  "kernelspec": {
   "display_name": "Python 3",
   "language": "python",
   "name": "python3"
  },
  "language_info": {
   "codemirror_mode": {
    "name": "ipython",
    "version": 3
   },
   "file_extension": ".py",
   "mimetype": "text/x-python",
   "name": "python",
   "nbconvert_exporter": "python",
   "pygments_lexer": "ipython3",
   "version": "3.8.3"
  }
 },
 "nbformat": 4,
 "nbformat_minor": 4
}
