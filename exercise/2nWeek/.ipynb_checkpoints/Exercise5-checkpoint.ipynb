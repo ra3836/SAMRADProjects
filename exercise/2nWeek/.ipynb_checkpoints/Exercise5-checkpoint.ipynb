{
 "cells": [
  {
   "cell_type": "code",
   "execution_count": 18,
   "metadata": {},
   "outputs": [
    {
     "name": "stdout",
     "output_type": "stream",
     "text": [
      "Please Enter the Context :Under the reign of Nader Shah in the 18th century, Iran once again became a major world power. However, Iran would remain one of the few non-European states to avoid colonization by Europe.\n",
      "5:Nader\n",
      "6:Shah\n",
      "11:Iran\n",
      "20:Iran\n",
      "33:Europe\n"
     ]
    }
   ],
   "source": [
    "desc = input(\"Please Enter the Context :\")\n",
    "splt_list = desc.split();\n",
    "# print()\n",
    "# print(splt_list)\n",
    "rep={}\n",
    "new_word =[]\n",
    "for i in range(len(splt_list)):\n",
    "    if i==0:\n",
    "        pass\n",
    "    elif '.' in splt_list[i-1] :\n",
    "        pass\n",
    "    else :\n",
    "        word = splt_list[i]\n",
    "        if word[0].isupper() :\n",
    "            w_len = len(word)\n",
    "            if word[w_len-1]==\".\" or word[w_len-1]==\",\":\n",
    "                for x in range(w_len-1):\n",
    "                    new_word.append(word[x])\n",
    "                word = \"\".join(new_word)\n",
    "            selected_word = word\n",
    "            position  = i+1\n",
    "            rep[position] = selected_word\n",
    "# print(rep)\n",
    "result = list(rep.keys())\n",
    "for f in result:\n",
    "    print(\"{}:{}\".format(f,rep[f]))\n",
    "\n",
    "\n"
   ]
  }
 ],
 "metadata": {
  "kernelspec": {
   "display_name": "Python 3",
   "language": "python",
   "name": "python3"
  },
  "language_info": {
   "codemirror_mode": {
    "name": "ipython",
    "version": 3
   },
   "file_extension": ".py",
   "mimetype": "text/x-python",
   "name": "python",
   "nbconvert_exporter": "python",
   "pygments_lexer": "ipython3",
   "version": "3.8.3"
  }
 },
 "nbformat": 4,
 "nbformat_minor": 4
}
