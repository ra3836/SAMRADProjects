{
 "cells": [
  {
   "cell_type": "code",
   "execution_count": 2,
   "metadata": {},
   "outputs": [],
   "source": [
    "#Return Divisors of a number\n",
    "def divisors(number):\n",
    "    divisorlist=[]\n",
    "    for i in range(1,number+1): \n",
    "        if number % i ==0 :     \n",
    "            divisorlist.append(i)\n",
    "    return divisorlist"
   ]
  },
  {
   "cell_type": "code",
   "execution_count": 3,
   "metadata": {},
   "outputs": [],
   "source": [
    "#Check the Number if it's prime or not\n",
    "def isprime(number):\n",
    "    if number==1 :\n",
    "        return False\n",
    "    for i in range(2,number):\n",
    "        if number % i ==0 :\n",
    "            return False\n",
    "    return True"
   ]
  },
  {
   "cell_type": "code",
   "execution_count": 5,
   "metadata": {},
   "outputs": [
    {
     "name": "stdout",
     "output_type": "stream",
     "text": [
      "Please Enter Number 1/10 : 150\n",
      "Please Enter Number 2/10 : 250\n",
      "Please Enter Number 3/10 : 480\n",
      "Please Enter Number 4/10 : 890\n",
      "Please Enter Number 5/10 : 8500\n",
      "Please Enter Number 6/10 : 1700\n",
      "Please Enter Number 7/10 : 3313\n",
      "Please Enter Number 8/10 : 970\n",
      "Please Enter Number 9/10 : 990\n",
      "Please Enter Number 10/10 : 1013\n",
      "990 4\n"
     ]
    }
   ],
   "source": [
    "#first get 10 Numbers with number validation\n",
    "data_Entrance = []\n",
    "for i in range(1,11):\n",
    "    number = \"-\"\n",
    "    while number.isdigit() == False :\n",
    "        number = input(\"Please Enter Number {}/10 : \".format(i))\n",
    "        if  number.isdigit() :\n",
    "            data_Entrance.append(number)\n",
    "        else:\n",
    "            print(\"Number is Just Acceptable !\")\n",
    "#-------------------------------------------------\n",
    "target_num = None\n",
    "max_counter=0\n",
    "for data in data_Entrance :           # Navigate Main Entrance list\n",
    "    counter = 0\n",
    "    for num in divisors(int(data)) :  #Navigate in divisors\n",
    "        if isprime(num)==True:        #Check if is prime       \n",
    "            counter +=1\n",
    "    if counter > max_counter :\n",
    "        target_num = data\n",
    "        max_counter = counter\n",
    "print(target_num, max_counter)    "
   ]
  }
 ],
 "metadata": {
  "kernelspec": {
   "display_name": "Python 3",
   "language": "python",
   "name": "python3"
  },
  "language_info": {
   "codemirror_mode": {
    "name": "ipython",
    "version": 3
   },
   "file_extension": ".py",
   "mimetype": "text/x-python",
   "name": "python",
   "nbconvert_exporter": "python",
   "pygments_lexer": "ipython3",
   "version": "3.8.3"
  }
 },
 "nbformat": 4,
 "nbformat_minor": 4
}
